{
  "nbformat": 4,
  "nbformat_minor": 0,
  "metadata": {
    "colab": {
      "name": "Tiago Daltro Duarte - APE 2021.2  - 2ª Avaliação.ipynb",
      "provenance": [],
      "collapsed_sections": []
    },
    "kernelspec": {
      "name": "python3",
      "display_name": "Python 3"
    }
  },
  "cells": [
    {
      "cell_type": "markdown",
      "metadata": {
        "id": "PO8efkjRUtjo"
      },
      "source": [
        "**IFPB - CAMPUS JOÃO PESSOA    \n",
        "CURSO: SISTEMAS PARA INTERNET     \n",
        "DISCIPLINA: ALGORITMOS E PROGRAMAÇÃO ESTRUTURADA     \n",
        "PROFESSORES: CANDIDO EGYPTO / EDEMBERG ROCHA**"
      ]
    },
    {
      "cell_type": "markdown",
      "metadata": {
        "id": "VVFFZyE0cJBJ"
      },
      "source": [
        "# 2ª AVALIAÇÃO"
      ]
    },
    {
      "cell_type": "markdown",
      "metadata": {
        "id": "S9MjYNiFbGDT"
      },
      "source": [
        "##Questão 1"
      ]
    },
    {
      "cell_type": "markdown",
      "metadata": {
        "id": "GiQzrBL9WplY"
      },
      "source": [
        "Escreva um programa que leia 4 notas e calcule a média obtida, desprezando a nota mais baixa.    \n",
        "O programa deverá determinar o conceito do aluno na disciplina, de acordo com a tabela seguinte:\n",
        ">![Conceitos.png](data:image/png;base64,iVBORw0KGgoAAAANSUhEUgAAARoAAACJCAIAAAB8VGC0AAAAAXNSR0IArs4c6QAAAARnQU1BAACxjwv8YQUAAAAJcEhZcwAADsMAAA7DAcdvqGQAABBkSURBVHhe7Z3NayNHGof1Vxh0mNPAXOJTAj4sc9DJBJKDDhMIGxDsgPEh7GUODbosA1mzC4KBQZCFATF29rC7mIaFHCYeEA7Ghwyx15AMEbqFYHzJIRgfwjCI2ap6325VdVVLJbssVUu/5+K2Plrteuvp+lDV69o7AEAgoBMAwYBOAARjrFOtBrWWHIQ4FGUlaegEAPCEtTExdBqCpQYhDgV0UpztJxtrtdq9B93DAT+0QkCnUECn4XBw2H1wr1Zb20j2z/ih1QI6hQI6vT7qfrYmXNp+fryCDZMCOoUCOgHoFIzl0mnwYue+GAJJ1h50j/TW5uzrnabo0amntvZOxWsPdu7T72M2kvRMPwmzsbXzZZq3XT+lyR356Kfd45/4If1sa591j17zoxVBXDUfXYvBcfrlztYG/fm1e82kmx5zCZhPicJRT3JJ/nCw8yE9qnWzv9vbeq9Wu9PsfssPyFN8sSVHtuqlfIL8vRr3dw4GZ2miPq0pgsNxsnhva+87+8yFK78e4iysjUk1dTJKMCs1yeB0b3usiCjrwmsZpVNJGNaaf39xJiuCSyc9umv3d15Uq9soLpqPZmdw/Hx7XCOZO0kqimZw1H1QfEaSlWRW9SUf7hz8oM73bbcpSjfTaXC0t23d9OTZ9fdmzKQTD5gt1h7svBA322siTsDamCyBTtwKKeiel2HoZDQyEn4ii+jZwfOkqWoF30Qdb+QGbaPZVLGUceVnKoG4ZD6albxSrjXb+6rVUcV1T1R4+6nB8X6bSpJmUHUl8gZK14mGtYJ7zfa/1ClOD5631dk1beS7clyPFwIqsc/8+nj/LxzmQr9mFsTbWRuTSuv0/p+21G1xbXvvVBXM6d6W/L2xtaXakJl0knyfJg35WnXXtd/IPT3RKgmt5FP5vbYaiCvmoxnJuriOBjl7yvzuIe9IyxBw1V/7uPmxeIw7yZpO+Ysdt6eb6ZSd2TQn72JYVcIb8WbWxqTSOm0kz7vKH+rvZT29+4/3nn4qfpo6jeHWzKFT3leUBW3pxGGQb+c4Vay/Jy6ej2YjLxb79mGUGD8myaq71mG7k/T+I+9W1EBpOvFN0FmY2XnGqI66p058Zj3EkiyydKrrIN7M2phUXKe0T707s4p/fdS9nk75i1068flJ3ewOV6n+nrhePpqNn46pPIvOCMqecuqUir6X7E7I3sThWKfjblO9tFDpFbZOVP5+OpWcOYssdCK4PERxnPLdcW37+f4XstchQ/WaY2zoZFUFu/Qntk6uGUJBlfp74nL5aDZyZ+w/tkynbBCrTRuoHjR1p8Ut79nTok4TWyddG8lNdJrQ2Poi3szamFRdp+J8t2p5shjPrJNeCQpvdM3YSqrU3xOXy0cz4h4gKbJS0udXRW2nxVwUDl2nbBpwYzvZep8L3z3CIW6mU3Zx3B9hshFyPuSeHfFu1sak+joZFZ2Cei2dtJk9MsR4o9HTIwz3KoG4WD6alfyeZc7s3RHVNDNHGNI9UJX27EV3ixryRpJ+n1d90mlcmyVU+HkEzZm9O6K6n95Ip/Fn3d/qvlAdu9OD7rZ6543Wmon3szYmS6CT1g3j+41TJx31RtcTAuf3TvwRxv0sQJ9hzohr5aOZET22tqqFBuqu//p478/2U1p9Leikf0+V38syJ3VkaWc66cgTeerk/rpMstFOVZSvhzgBa2OyDDqNewvcphs6ucY8jl6iYK2ZPHWvijhzTzxMmpKKEXGtfHQdBmcHezvc7Aj0tQWFp1RJ7h1k936q+nopnb7YIaG01l6dIldn0qqIWXSSmGdWF/fPgxu4JBCnYW1MqqkTuBYIcSigE4BOwYBOADoFAzoB6BQML50AAJ6wNiaGTnwElhSEOBTQCSDEwYBOACEOBnQCCHEwoBNAiIMBncaMLk7STqsu/mBBI9k9uRjxMwaji1e7ySa9qt568nJ4yU9UFvGH8FGcjAa9TRGWD5L+r/xIrJSV5DLpdDnsf3Ny8YZ/K2P0c/pwvdZ43BevHJ3325u1+ufpufWuq1edRr3e2h1cjd5d/dhrrbtfVikiD/Fo2KO7V/1heu68w0VDWUkul05pu1Fbb3XSCVK9Penc1e5/KoT1zd7ADN/vw94ntdonveHv9HvJyypG3CH+tZ98UNt8mj4zSj5OVkEnxdXwpezIlUn19iLdFj28zslV9oDUq9ZKL/h3QoX2bufkLf/+7rKf1Gv1pF/pDl/UIZYlLG9Yb6tw51oZnRTZsMeWanTZb9eN3vkvaeuupZN6cLM3zEPqtq5iRBxiiotqlGgEpRd+fKyWToqrk06jVrvbSn/hBxSj8/ShaGdoUCSHW72kUS96YssDnW4X6umRQsWedoSslE6ZJPVWZ/9wKLXReXNx8pV8VlFvPXpk64TWac5kPT0q7/hHqmUluVw6ZVPg0qP+MBseTUR6YkdO6WSNnfQHqkisIaaenkXE/T1xdXxkskw6CQfWG0mvP8MXRKOrkycNR7/CObNXge9DJhNriPWeHhF7f28VdPLjatjnhot6fXcbnVfUjqkOHY+11BCr3khS2Vek750aT06K/caKEWmIzZ4eEXl/bxV0Uj20IsWpCHaDEJ3CdLwmQumUN0H6EEt49dX0L4ijR/wlfBQR9NWF1RDFPb9XVpLLpNPNUKsl4v8+/iaseojDAZ0mowZR1V9GNBnoFAroBBDiYEAngBAHAzoBhDgYXjoBADxhbUwMnfgILCkIcSigE0CIgwGdAEIcDOgEEOJgVF8n3mZLbCa7r5wJU+aaL8XI4VJ6SfJlu9k/3Ku3Oi/9lrrfAuLz+Sg21IL9MQstJR/ENfKRycJ1Gl0ND/9bkktojJ4v5d2bi/7jhnN95Fzzpbw5Tz+v1zbb/fMRX9L6w/Rn6w/57aTzUa3+sDcQYl8Oeg/r7pfNgwWF2IOLtFXL9r9QPpzaR52T3+jJCIlZpzSRDuiLUS0K241o7Xdx99Gt5UvhVmg7vdA+UF3DOHtEyZLN4jUsdGVnNXSyf42PaHUiLocvn9C2P7dUVAt5iwRtUrLv8f75UvTV4uutzjfWjt0MFsm1orwYctpLbyrHG+O0TC90kfV2/3IBPi00xBMxCxO7cUOQjTFcUo2uBrtylNJIevuqfrdfWtp57kgnG6mTJj7zZVu0jbZy+bioLK9l0VXaaFDQyd594LRuTlRDpwnJD6OhCjopSAFXVgYaq0jccwy2PE6dVEOnaaC6iIXmQo3BpgyIaTjHgyLRZe335BRIwRNbHujkQumkMSVZ4sIRl8hHJvHolNdIUZT/Lm5Q5zuWrN+XPHfHzYuGX+vEvpo4dVIb5SfML+mziLX6H5NHtk5onfwwOns8nI55+3NZScagkxjJiH6VuNM7Ew9JVGdaGyzRUEofJkn88qUonVwDqgL5cM5ztl15UpxjsLJk2gO8OVIRnQQ0q6SXW1xEq5OqcFPaAbtSqrpbHND75UuZaW5twlREAdmg3bVHz86ZPQ+ZbwXoFIpodfLCSISSTUtwpdR6dH75UmgMtt56cixnGGj+wzFU02CpCj20y2H/iNpS7vWNP0vr0fE3Zu1UNnH0vdPCvlGpiE5ZZ29BXyf4EK1O1PJYFOt31iFkNlVzpgrb6Lx55kvhjpzi2qNecsN5EqPxNIZY5f//Zg6Iz+ej2CisisBUxIJQTU1kk6qqkVzY0ocJVDPEMbKkOskRyweRVVy5qijOjEjQKRRLqhOYBYQ4FNAJIMTBgE4AIQ6Gl04AAE9YGxNDJz4CSwpCHAroBBDiYEAngBAHAzoBhDgY0AkgxMFYBp3yDbIKe7+TZK6ZjIy1f+VLBGmVLb8KmYzKUTveuKDkssyvo122J66Pj0wWrtPIK5MRL4TLF5WLKvq/Q1uVhWUyEtcjN8m7FkEjk5EXXIC89F7eguSS58XsC5tOzDp5ZDKiXXdTtmfON5NRcSOgWkVu7Qt07nda1NaDiHWijDSV+Xd10epETMtkJBfwTxXD2uh6q5mM2N5s8xI1jMWVr8hk5EdppCKlrCQj0UmRjTEcUsntZaJO/3XiXqb5ZjIS8H+tFr38r+ReLM6qqYNcEV7QnrUA/Yh5UVaSMemkIAUKDlBxqy3wotqbu3FzbHmcOoXKZKRQIzpxuWVzDLY80MmBCpT1P/Yjpqwk49FpUiYjq7idXaY5ZzLiRMqyr3h5rtpVO/sfWicvVEzQOoVheiYj6uxpxa0qpVMna+xUnB2g0E3vpk/LZESt3Hiw5MwWYieNsQZ4cyRanShXBMZON0dVuGkZ7YpDVff8mHNm79YyGRWT75CnxY9DJiMvOAcoZvbmhPr2hucPLodpe5yjXOvRzTWTkZGiSLSX9DUXNZhajw6ZjLzIxsN5X4D+/9DkuCyOaHXyzGSUlS89q4/7jc7bPDMZjSf/FPlMicDoiyKTkR/54JnAqogFgExGM1DNEMfIkuqETEazAJ1CsaQ6gVlAiEMBnQBCHAwvnQAAnrA2JoZOfASWFIQ4FNAJIMTBgE4AIQ4GdAIIcTCgE0CIg7EsOtESOHPtqc58U6/Iz9MWGtkbNBS0LJBfgtQrNmqV/Zh6I3nmkz5kgYir5COThevkm3pFQatXJW6d5pp6JXM7XwUrtDm0VUHqlamYO2t4ceZ6q/fjou47UykryRh08km9oqCMEf949jdzW1PGnFOvUB6IKcvDkXrFA2ujGm8g0LddxkW0OhHTUq9IVBE3npz89qrj1mnOqVfUx00RA6lXfLB1CncrvB3KSjISnRTZGMMlFeVLUU2B2pHh0slvczuf6uapV9THNR51Jm2+wOZ2Hxw60a3QsU8nDspKMiadFKRAsRzVKIUrfZlOtjxOnYr7Ya+beoVOnu8jNrYP5tjyQCcbl07O2EVD/DpNSL1ibmoq08mzdaIHCzh1mrzlvnhy6tcVNrejdfIBrVNIpqZeKUyk5hQqpRUVFZKieEoD14CqwLTUK5a96sROnZB6ZTIOnTB2uh5+qVd0VLV1Vcj5pl4pTioUP51wzux5yHwrVEcnzOzNjYJOWqdrrqlXeEqDvrrNpvt5E67Wo0PqlemYOuF7pxvgnXolx6VTdr+fa+oV6zz5hLvSKWu4kHplGoXOPFZFLAykXpmBaoY4RpZUJ6RemQXoFIol1QnMAkIcCugEEOJgeOkEAPCEtTExdOIjsKQgxKGATgAhDgZ0AghxMKATQIiDAZ0AQhwM6GQRWxaX20f8IXwUH7T00iDW3RkCcXV8ZLKyOkWWxWUuxBxipVPhPwvHS1lJLrFOtI3qD+5/r7+oLC4LBTqFYqV0yvYjli7fDpjFpUpAp1CsiE6ZSLXNZPdVyRL/gFlcKgZ0CsUq6ERbOCcm+hIEzOJSNaLXSWcx6TQ8EdfHRybLp9Om2ihfplPQLC5VI+YQqwJG6xQXo6vhN5zFxZ3TK2gWl6oh/k4+ig/oFC1TpyIySlsnvywuVQM6hWKldCImTpQTpk70G73eL4tLxYBOoVhBnTxw6JQ3QcJGnywuVSLmEKvCN8GqiApDM35R5ngIxaqHOBzQaTLqy6jqLyOaDHQKBXQCCHEwoBNAiIMBnQBCHAwvnQAAnrA2JrhdARAM6ARAMKATAMGATgAE4t27/wOeLa7ZvPAMeAAAAABJRU5ErkJggg==)\n",
        "\n",
        "Ao final, mostrar a média, o conceito correspondente e a mensagem APROVADO (se o conceito for A, B ou C) ou REPROVADO (se o conceito for D ou E)."
      ]
    },
    {
      "cell_type": "code",
      "metadata": {
        "id": "vmY6p9omhQhx",
        "colab": {
          "base_uri": "https://localhost:8080/"
        },
        "outputId": "b0bab0cb-0697-483d-baef-69b2a81000a4"
      },
      "source": [
        "nota1 = float(input('Digite a primeira nota do aluno: '))\n",
        "nota2 = float(input('Digite a segunda nota do aluno: '))\n",
        "nota3 = float(input('Digite a terceira nota do aluno: '))\n",
        "nota4 = float(input('Digite a quarta nota do aluno: '))\n",
        "\n",
        "soma = 0\n",
        "\n",
        "if nota1 <= nota2 and nota1 <= nota3 and nota1 <= nota4:\n",
        "    soma = nota2 + nota3 + nota4\n",
        "elif nota2 <= nota1 and nota2 <= nota3 and nota2 <= nota4:\n",
        "    soma = nota1 + nota3 + nota4\n",
        "elif nota3 <= nota1 and nota3 <= nota2 and nota3 <= nota4:\n",
        "    soma = nota1 + nota2 + nota4\n",
        "elif nota4 <= nota1 and nota4 <= nota2 and nota4 <= nota3:\n",
        "    soma = nota1 + nota2 + nota3\n",
        "\n",
        "media = float(soma / 3)\n",
        "\n",
        "if media >= 9.0:\n",
        "    print(f'O aluno obteve a média : {media:.2f} e o conceito A. Logo está Aprovado!!!')\n",
        "elif media >= 8.0 and  media < 9.0:\n",
        "    print(f'O aluno obteve a média : {media:.2f} e o conceito B. Logo está Aprovado!!!')\n",
        "elif media >= 6.0 and media < 8.0:\n",
        "    print(f'O aluno obteve a média : {media:.2f} e o conceito C. Logo está Aprovado!!!')\n",
        "elif media >= 4.0 and media < 6.0:\n",
        "    print(f'O aluno obteve a média : {media:.2f} e o conceito D. Logo está Reprovado!!!')\n",
        "elif media < 4.0:\n",
        "    print(f'O aluno obteve a média : {media:.2f} e o conceito E. Logo está Reprovado!!!')\n",
        "\n",
        "\n",
        "\n"
      ],
      "execution_count": 4,
      "outputs": [
        {
          "output_type": "stream",
          "text": [
            "Digite a primeira nota do aluno: 5.00\n",
            "Digite a segunda nota do aluno: 3.00\n",
            "Digite a terceira nota do aluno: 2.00\n",
            "Digite a quarta nota do aluno: 6.00\n",
            "O aluno obteve a média : 4.67 e o conceito D. Logo está Reprovado!!!\n"
          ],
          "name": "stdout"
        }
      ]
    },
    {
      "cell_type": "markdown",
      "metadata": {
        "id": "VEOnOHOvzNVT"
      },
      "source": [
        "##Questão 2"
      ]
    },
    {
      "cell_type": "markdown",
      "metadata": {
        "id": "CB8Y3zoKxAUG"
      },
      "source": [
        "Escreva um programa para calcular a conta final de um hóspede de um hotel, considerando que:      \n",
        "* Serão lidos o nome do hóspede, o tipo do apartamento utilizado (A, B, C ou D), o número de diárias utilizadas pelo hóspede e o valor do consumo interno do hóspede;     \n",
        "* O valor da diária é determinado pela seguinte tabela:     \n",
        "\n",
        "> ![imagem2_17.png](data:image/png;base64,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)      \n",
        "\n",
        "* O valor total das diárias é calculado pela multiplicação do número de diárias utilizadas pelo valor da diária;     \n",
        "* O subtotal é calculado pela soma do valor total das diárias e o valor do consumo interno;     \n",
        "* O valor da taxa de serviço equivale a 10% do subtotal;     \n",
        "* O total geral resulta da soma do subtotal com a taxa de serviço.    \n",
        "\n",
        "O programa deverá mostrar a conta final do hóspede, contendo: o nome do hóspede, o tipo do apartamento, o número de diárias utilizadas, o valor unitário da diária, o valor total das diárias, o valor do consumo interno, o subtotal, o valor da taxa de serviço e o total geral.\n"
      ]
    },
    {
      "cell_type": "code",
      "metadata": {
        "id": "LTxw9bKTmp1x",
        "colab": {
          "base_uri": "https://localhost:8080/"
        },
        "outputId": "aa6649c9-2ad1-4ca3-96e4-844b31a4a5ea"
      },
      "source": [
        "# Valores lidos para o desenvolvimento da questão\n",
        "nome = input('Digite o nome do hóspede: ')\n",
        "tipo_apartamento = input('Digite o tipo de apartamento - A,B,C ou D: ')\n",
        "numero_diarias = int(input('Digite o número de diárias utilizadas pelo hóspede: '))\n",
        "valor_consumo_interno = float(input('Digite o valor do consumo interno do hóspede: '))\n",
        "\n",
        "valor_diaria = 0\n",
        "valor_total_diaria = 0\n",
        "subtotal = 0\n",
        "total_geral = 0\n",
        "valor_unitario_diaria = 0\n",
        "valor_taxa_servico = 0\n",
        "# Condições para a escolha do tipo de apartamento.\n",
        "if tipo_apartamento == 'A':\n",
        "    valor_total_diaria = numero_diarias * 150.00\n",
        "    valor_unitario_diaria = 150.00\n",
        "elif tipo_apartamento == 'B':\n",
        "    valor_total_diaria = numero_diarias * 100.00\n",
        "    valor_unitario_diaria = 100.00\n",
        "elif tipo_apartamento == 'C':\n",
        "    valor_total_diaria = numero_diarias * 75.00\n",
        "    valor_unitario_diaria = 75.00\n",
        "elif tipo_apartamento == 'D':\n",
        "    valor_total_diaria = numero_diarias * 50.00\n",
        "    valor_unitario_diaria = 50.00\n",
        "\n",
        "# Calculos para resolução\n",
        "subtotal = valor_total_diaria + valor_consumo_interno\n",
        "valor_taxa_servico = subtotal * 0.10\n",
        "total_geral = subtotal + valor_taxa_servico\n",
        "\n",
        "print('\\n')\n",
        "\n",
        "print(f'Nome do Hospede: {nome}')\n",
        "print(f'Tipo do Apartamento: {tipo_apartamento}')\n",
        "print(f'Número de Diárias: {numero_diarias}')\n",
        "print(f'Valor Unitário da Diária: {valor_unitario_diaria}')\n",
        "print(f'Valor Total das Diárias: {valor_total_diaria}')\n",
        "print(f'Valor do Consumo Interno: {valor_consumo_interno}')\n",
        "print(f'O Subtotal: {subtotal}')\n",
        "print(f'Valor da Taxa de Serviço: {valor_taxa_servico:.2f}')\n",
        "print(f'Total Geral: {total_geral}')\n",
        "\n",
        "\n",
        "\n"
      ],
      "execution_count": 2,
      "outputs": [
        {
          "output_type": "stream",
          "text": [
            "Digite o nome do hóspede: tiago\n",
            "Digite o tipo de apartamento - A,B,C ou D: B\n",
            "Digite o número de diárias utilizadas pelo hóspede: 4\n",
            "Digite o valor do consumo interno do hóspede: 70.00\n",
            "\n",
            "\n",
            "Nome do Hospede: tiago\n",
            "Tipo do Apartamento: B\n",
            "Número de Diárias: 4\n",
            "Valor Unitário da Diária: 100.0\n",
            "Valor Total das Diárias: 400.0\n",
            "Valor do Consumo Interno: 70.0\n",
            "O Subtotal: 470.0\n",
            "Valor da Taxa de Serviço: 47.00\n",
            "Total Geral: 517.0\n"
          ],
          "name": "stdout"
        }
      ]
    }
  ]
}